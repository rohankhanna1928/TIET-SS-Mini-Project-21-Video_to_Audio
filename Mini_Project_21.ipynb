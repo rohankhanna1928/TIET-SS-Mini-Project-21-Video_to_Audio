{
  "nbformat": 4,
  "nbformat_minor": 0,
  "metadata": {
    "colab": {
      "provenance": [],
      "authorship_tag": "ABX9TyNmLAxQiVIvZe5cLcwl07pG",
      "include_colab_link": true
    },
    "kernelspec": {
      "name": "python3",
      "display_name": "Python 3"
    },
    "language_info": {
      "name": "python"
    }
  },
  "cells": [
    {
      "cell_type": "markdown",
      "metadata": {
        "id": "view-in-github",
        "colab_type": "text"
      },
      "source": [
        "<a href=\"https://colab.research.google.com/github/rohankhanna1928/TIET-SS-Mini-Project-21-Video_to_Audio/blob/main/Mini_Project_21.ipynb\" target=\"_parent\"><img src=\"https://colab.research.google.com/assets/colab-badge.svg\" alt=\"Open In Colab\"/></a>"
      ]
    },
    {
      "cell_type": "code",
      "execution_count": null,
      "metadata": {
        "id": "l0BaDG0_D_rp"
      },
      "outputs": [],
      "source": [
        "!pip install moviepy"
      ]
    },
    {
      "cell_type": "code",
      "source": [
        "from moviepy.editor import VideoFileClip\n",
        "\n",
        "video_path = '/content/sample_video.mp4'\n",
        "audio_path = '/content/output_audio.mp3'\n",
        "\n",
        "def convert_video_to_audio(video_path, audio_path=\"output_audio.mp3\"):\n",
        "    try:\n",
        "        video = VideoFileClip(video_path)\n",
        "        video.audio.write_audiofile(audio_path)\n",
        "        video.close()\n",
        "        print(f\"Audio saved as: {audio_path}\")\n",
        "    except Exception as e:\n",
        "        print(f\"Error: {e}\")\n",
        "\n",
        "if __name__ == \"__main__\":\n",
        "    convert_video_to_audio(video_path, audio_path)"
      ],
      "metadata": {
        "id": "B6nDOxalEbZz"
      },
      "execution_count": null,
      "outputs": []
    }
  ]
}